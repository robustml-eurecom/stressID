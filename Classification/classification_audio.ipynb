{
 "cells": [
  {
   "cell_type": "markdown",
   "metadata": {},
   "source": [
    "# Classification of Stress from Audio data"
   ]
  },
  {
   "cell_type": "code",
   "execution_count": 1,
   "metadata": {},
   "outputs": [],
   "source": [
    "import numpy as np\n",
    "import scipy.io\n",
    "import scipy.stats as stats\n",
    "import matplotlib.pyplot as plt\n",
    "import pandas as pd\n",
    "import random\n",
    "import time \n",
    "\n",
    "import os\n",
    "from pathlib import Path\n",
    "\n",
    "from sklearn.linear_model import LogisticRegression\n",
    "from sklearn.ensemble import RandomForestClassifier, GradientBoostingClassifier\n",
    "from sklearn.neighbors import KNeighborsClassifier\n",
    "from sklearn.ensemble import AdaBoostClassifier\n",
    "from sklearn.tree import DecisionTreeClassifier\n",
    "from sklearn.neural_network import MLPClassifier\n",
    "\n",
    "from sklearn.metrics import classification_report, confusion_matrix, accuracy_score\n",
    "from sklearn.model_selection import train_test_split, LeaveOneOut, GroupKFold\n",
    "from sklearn.svm import LinearSVC, SVR, SVC\n",
    "from sklearn.feature_selection import SelectFromModel\n",
    "from sklearn.pipeline import Pipeline\n",
    "from sklearn.feature_selection import RFE\n",
    "from sklearn.feature_selection import RFECV\n",
    "from sklearn.metrics import balanced_accuracy_score, f1_score\n",
    "\n",
    "from sklearn.experimental import enable_iterative_imputer\n",
    "from sklearn.impute import IterativeImputer\n",
    "from sklearn.preprocessing import StandardScaler\n",
    "\n",
    "from sklearn.utils import shuffle\n",
    "\n",
    "from make_classification import *"
   ]
  },
  {
   "cell_type": "markdown",
   "metadata": {},
   "source": [
    "#### Import labels"
   ]
  },
  {
   "cell_type": "code",
   "execution_count": 2,
   "metadata": {},
   "outputs": [
    {
     "data": {
      "text/html": [
       "<div>\n",
       "<style scoped>\n",
       "    .dataframe tbody tr th:only-of-type {\n",
       "        vertical-align: middle;\n",
       "    }\n",
       "\n",
       "    .dataframe tbody tr th {\n",
       "        vertical-align: top;\n",
       "    }\n",
       "\n",
       "    .dataframe thead th {\n",
       "        text-align: right;\n",
       "    }\n",
       "</style>\n",
       "<table border=\"1\" class=\"dataframe\">\n",
       "  <thead>\n",
       "    <tr style=\"text-align: right;\">\n",
       "      <th></th>\n",
       "      <th>binary-stress</th>\n",
       "      <th>affect3-class</th>\n",
       "    </tr>\n",
       "    <tr>\n",
       "      <th>subject/task</th>\n",
       "      <th></th>\n",
       "      <th></th>\n",
       "    </tr>\n",
       "  </thead>\n",
       "  <tbody>\n",
       "    <tr>\n",
       "      <th>2ea4_Breathing</th>\n",
       "      <td>0</td>\n",
       "      <td>0</td>\n",
       "    </tr>\n",
       "    <tr>\n",
       "      <th>2ea4_Counting1</th>\n",
       "      <td>1</td>\n",
       "      <td>2</td>\n",
       "    </tr>\n",
       "    <tr>\n",
       "      <th>2ea4_Counting2</th>\n",
       "      <td>1</td>\n",
       "      <td>2</td>\n",
       "    </tr>\n",
       "    <tr>\n",
       "      <th>2ea4_Counting3</th>\n",
       "      <td>1</td>\n",
       "      <td>2</td>\n",
       "    </tr>\n",
       "    <tr>\n",
       "      <th>2ea4_Math</th>\n",
       "      <td>1</td>\n",
       "      <td>2</td>\n",
       "    </tr>\n",
       "  </tbody>\n",
       "</table>\n",
       "</div>"
      ],
      "text/plain": [
       "                binary-stress  affect3-class\n",
       "subject/task                                \n",
       "2ea4_Breathing              0              0\n",
       "2ea4_Counting1              1              2\n",
       "2ea4_Counting2              1              2\n",
       "2ea4_Counting3              1              2\n",
       "2ea4_Math                   1              2"
      ]
     },
     "execution_count": 2,
     "metadata": {},
     "output_type": "execute_result"
    }
   ],
   "source": [
    "labels = pd.read_csv('../../Dataset/labels.csv', sep=\",\", header=0, index_col=0).dropna()\n",
    "labels.head()"
   ]
  },
  {
   "cell_type": "markdown",
   "metadata": {},
   "source": [
    "# Classical approaches \n",
    "\n",
    "Several models are tested: Random Forests, K nearets neighbors, SVM, and Multi Layer Perceptron. All models are fitted 10 times on random splits, and the average scores over 10 repetitions are reported.\n",
    "\n",
    "To dimensionnality of the features matrix can be reduced using PCA or Feature selection. Feature selection is performed using L1 penalty or Recursive Feature Elimination (RFE). The optimal number of features is determined using RFECV."
   ]
  },
  {
   "cell_type": "markdown",
   "metadata": {},
   "source": [
    "#### Import and prepare dataset\n",
    "\n",
    "We use handcrafted features for the classical approaches. The two available feature sets are : classical acoustic features, and the mean and standard deviation of Wave2Vec features computed for each task."
   ]
  },
  {
   "cell_type": "code",
   "execution_count": 3,
   "metadata": {},
   "outputs": [
    {
     "data": {
      "text/html": [
       "<div>\n",
       "<style scoped>\n",
       "    .dataframe tbody tr th:only-of-type {\n",
       "        vertical-align: middle;\n",
       "    }\n",
       "\n",
       "    .dataframe tbody tr th {\n",
       "        vertical-align: top;\n",
       "    }\n",
       "\n",
       "    .dataframe thead th {\n",
       "        text-align: right;\n",
       "    }\n",
       "</style>\n",
       "<table border=\"1\" class=\"dataframe\">\n",
       "  <thead>\n",
       "    <tr style=\"text-align: right;\">\n",
       "      <th></th>\n",
       "      <th>1</th>\n",
       "      <th>2</th>\n",
       "      <th>3</th>\n",
       "      <th>4</th>\n",
       "      <th>5</th>\n",
       "      <th>6</th>\n",
       "      <th>7</th>\n",
       "      <th>8</th>\n",
       "      <th>9</th>\n",
       "      <th>10</th>\n",
       "      <th>...</th>\n",
       "      <th>131</th>\n",
       "      <th>132</th>\n",
       "      <th>133</th>\n",
       "      <th>134</th>\n",
       "      <th>135</th>\n",
       "      <th>136</th>\n",
       "      <th>137</th>\n",
       "      <th>138</th>\n",
       "      <th>139</th>\n",
       "      <th>140</th>\n",
       "    </tr>\n",
       "  </thead>\n",
       "  <tbody>\n",
       "    <tr>\n",
       "      <th>chdf_Counting2</th>\n",
       "      <td>-280.338013</td>\n",
       "      <td>124.138573</td>\n",
       "      <td>3.840094</td>\n",
       "      <td>15.627791</td>\n",
       "      <td>-4.523294</td>\n",
       "      <td>-15.956475</td>\n",
       "      <td>-15.634309</td>\n",
       "      <td>-10.193167</td>\n",
       "      <td>-9.976574</td>\n",
       "      <td>-19.588152</td>\n",
       "      <td>...</td>\n",
       "      <td>0.040699</td>\n",
       "      <td>0.046211</td>\n",
       "      <td>0.057499</td>\n",
       "      <td>0.028933</td>\n",
       "      <td>0.057475</td>\n",
       "      <td>0.070104</td>\n",
       "      <td>0.053073</td>\n",
       "      <td>0.041000</td>\n",
       "      <td>0.072966</td>\n",
       "      <td>0.068477</td>\n",
       "    </tr>\n",
       "    <tr>\n",
       "      <th>u3v9_Stroop</th>\n",
       "      <td>-332.180664</td>\n",
       "      <td>82.551025</td>\n",
       "      <td>36.539909</td>\n",
       "      <td>13.298847</td>\n",
       "      <td>9.375514</td>\n",
       "      <td>6.349435</td>\n",
       "      <td>0.126900</td>\n",
       "      <td>4.142829</td>\n",
       "      <td>-0.517474</td>\n",
       "      <td>1.666138</td>\n",
       "      <td>...</td>\n",
       "      <td>0.056451</td>\n",
       "      <td>0.054041</td>\n",
       "      <td>0.059267</td>\n",
       "      <td>0.035263</td>\n",
       "      <td>0.040047</td>\n",
       "      <td>0.047146</td>\n",
       "      <td>0.040196</td>\n",
       "      <td>0.061043</td>\n",
       "      <td>0.058365</td>\n",
       "      <td>0.062228</td>\n",
       "    </tr>\n",
       "    <tr>\n",
       "      <th>x1q3_Stroop</th>\n",
       "      <td>-362.426636</td>\n",
       "      <td>132.324814</td>\n",
       "      <td>7.044482</td>\n",
       "      <td>4.615066</td>\n",
       "      <td>-15.601804</td>\n",
       "      <td>-8.803574</td>\n",
       "      <td>-15.455957</td>\n",
       "      <td>-13.802106</td>\n",
       "      <td>-14.303585</td>\n",
       "      <td>-23.968596</td>\n",
       "      <td>...</td>\n",
       "      <td>0.060399</td>\n",
       "      <td>0.073943</td>\n",
       "      <td>0.086178</td>\n",
       "      <td>0.039574</td>\n",
       "      <td>0.056021</td>\n",
       "      <td>0.053250</td>\n",
       "      <td>0.062675</td>\n",
       "      <td>0.063904</td>\n",
       "      <td>0.061947</td>\n",
       "      <td>0.041878</td>\n",
       "    </tr>\n",
       "    <tr>\n",
       "      <th>cxj0_Counting2</th>\n",
       "      <td>-212.131577</td>\n",
       "      <td>80.600708</td>\n",
       "      <td>-21.619318</td>\n",
       "      <td>-13.967280</td>\n",
       "      <td>-25.350821</td>\n",
       "      <td>-22.545033</td>\n",
       "      <td>-17.179089</td>\n",
       "      <td>-13.269796</td>\n",
       "      <td>-11.334437</td>\n",
       "      <td>-11.906796</td>\n",
       "      <td>...</td>\n",
       "      <td>0.079905</td>\n",
       "      <td>0.060541</td>\n",
       "      <td>0.070319</td>\n",
       "      <td>0.057833</td>\n",
       "      <td>0.062822</td>\n",
       "      <td>0.081051</td>\n",
       "      <td>0.076904</td>\n",
       "      <td>0.059277</td>\n",
       "      <td>0.080670</td>\n",
       "      <td>0.076766</td>\n",
       "    </tr>\n",
       "    <tr>\n",
       "      <th>d4n6_Reading</th>\n",
       "      <td>-368.372650</td>\n",
       "      <td>107.842270</td>\n",
       "      <td>28.294743</td>\n",
       "      <td>1.705698</td>\n",
       "      <td>-12.907864</td>\n",
       "      <td>-5.071440</td>\n",
       "      <td>-39.436275</td>\n",
       "      <td>-29.513298</td>\n",
       "      <td>-7.421915</td>\n",
       "      <td>-13.819040</td>\n",
       "      <td>...</td>\n",
       "      <td>0.061729</td>\n",
       "      <td>0.063967</td>\n",
       "      <td>0.068888</td>\n",
       "      <td>0.063583</td>\n",
       "      <td>0.069102</td>\n",
       "      <td>0.071830</td>\n",
       "      <td>0.051946</td>\n",
       "      <td>0.074013</td>\n",
       "      <td>0.066823</td>\n",
       "      <td>0.069891</td>\n",
       "    </tr>\n",
       "    <tr>\n",
       "      <th>...</th>\n",
       "      <td>...</td>\n",
       "      <td>...</td>\n",
       "      <td>...</td>\n",
       "      <td>...</td>\n",
       "      <td>...</td>\n",
       "      <td>...</td>\n",
       "      <td>...</td>\n",
       "      <td>...</td>\n",
       "      <td>...</td>\n",
       "      <td>...</td>\n",
       "      <td>...</td>\n",
       "      <td>...</td>\n",
       "      <td>...</td>\n",
       "      <td>...</td>\n",
       "      <td>...</td>\n",
       "      <td>...</td>\n",
       "      <td>...</td>\n",
       "      <td>...</td>\n",
       "      <td>...</td>\n",
       "      <td>...</td>\n",
       "      <td>...</td>\n",
       "    </tr>\n",
       "    <tr>\n",
       "      <th>j9h8_Math</th>\n",
       "      <td>-318.902069</td>\n",
       "      <td>59.248405</td>\n",
       "      <td>29.819403</td>\n",
       "      <td>16.495792</td>\n",
       "      <td>14.034431</td>\n",
       "      <td>-1.386578</td>\n",
       "      <td>1.671305</td>\n",
       "      <td>2.522140</td>\n",
       "      <td>0.464210</td>\n",
       "      <td>1.041862</td>\n",
       "      <td>...</td>\n",
       "      <td>0.121528</td>\n",
       "      <td>0.090555</td>\n",
       "      <td>0.092629</td>\n",
       "      <td>0.062740</td>\n",
       "      <td>0.078983</td>\n",
       "      <td>0.100332</td>\n",
       "      <td>0.071423</td>\n",
       "      <td>0.080527</td>\n",
       "      <td>0.079014</td>\n",
       "      <td>0.077805</td>\n",
       "    </tr>\n",
       "    <tr>\n",
       "      <th>kycf_Counting2</th>\n",
       "      <td>-274.979279</td>\n",
       "      <td>94.682816</td>\n",
       "      <td>8.230233</td>\n",
       "      <td>5.364861</td>\n",
       "      <td>-7.384567</td>\n",
       "      <td>-17.215910</td>\n",
       "      <td>-21.922163</td>\n",
       "      <td>-11.229294</td>\n",
       "      <td>-15.574428</td>\n",
       "      <td>-14.748496</td>\n",
       "      <td>...</td>\n",
       "      <td>0.059797</td>\n",
       "      <td>0.057618</td>\n",
       "      <td>0.047983</td>\n",
       "      <td>0.038825</td>\n",
       "      <td>0.047335</td>\n",
       "      <td>0.047993</td>\n",
       "      <td>0.063589</td>\n",
       "      <td>0.057100</td>\n",
       "      <td>0.050366</td>\n",
       "      <td>0.054505</td>\n",
       "    </tr>\n",
       "    <tr>\n",
       "      <th>k67g_Counting1</th>\n",
       "      <td>-353.467926</td>\n",
       "      <td>138.669968</td>\n",
       "      <td>21.895538</td>\n",
       "      <td>14.345483</td>\n",
       "      <td>-5.692627</td>\n",
       "      <td>-3.310135</td>\n",
       "      <td>-11.725992</td>\n",
       "      <td>-25.843159</td>\n",
       "      <td>-15.291170</td>\n",
       "      <td>-17.531143</td>\n",
       "      <td>...</td>\n",
       "      <td>0.061554</td>\n",
       "      <td>0.061031</td>\n",
       "      <td>0.059175</td>\n",
       "      <td>0.056096</td>\n",
       "      <td>0.102160</td>\n",
       "      <td>0.063463</td>\n",
       "      <td>0.058458</td>\n",
       "      <td>0.042741</td>\n",
       "      <td>0.092567</td>\n",
       "      <td>0.105108</td>\n",
       "    </tr>\n",
       "    <tr>\n",
       "      <th>cxj0_Math</th>\n",
       "      <td>-253.067215</td>\n",
       "      <td>85.056641</td>\n",
       "      <td>-11.448489</td>\n",
       "      <td>-15.564773</td>\n",
       "      <td>-25.164740</td>\n",
       "      <td>-12.583304</td>\n",
       "      <td>-10.089787</td>\n",
       "      <td>-8.028225</td>\n",
       "      <td>-10.927115</td>\n",
       "      <td>-7.694977</td>\n",
       "      <td>...</td>\n",
       "      <td>0.058189</td>\n",
       "      <td>0.053052</td>\n",
       "      <td>0.048247</td>\n",
       "      <td>0.052107</td>\n",
       "      <td>0.047545</td>\n",
       "      <td>0.063636</td>\n",
       "      <td>0.064138</td>\n",
       "      <td>0.062151</td>\n",
       "      <td>0.069617</td>\n",
       "      <td>0.074496</td>\n",
       "    </tr>\n",
       "    <tr>\n",
       "      <th>6g6y_Speaking</th>\n",
       "      <td>-280.927765</td>\n",
       "      <td>72.356934</td>\n",
       "      <td>20.673653</td>\n",
       "      <td>11.828773</td>\n",
       "      <td>6.565562</td>\n",
       "      <td>-3.922047</td>\n",
       "      <td>-2.845994</td>\n",
       "      <td>3.321418</td>\n",
       "      <td>-8.916420</td>\n",
       "      <td>8.052495</td>\n",
       "      <td>...</td>\n",
       "      <td>0.069291</td>\n",
       "      <td>0.066565</td>\n",
       "      <td>0.067631</td>\n",
       "      <td>0.040679</td>\n",
       "      <td>0.056267</td>\n",
       "      <td>0.046539</td>\n",
       "      <td>0.064388</td>\n",
       "      <td>0.057773</td>\n",
       "      <td>0.072112</td>\n",
       "      <td>0.056777</td>\n",
       "    </tr>\n",
       "  </tbody>\n",
       "</table>\n",
       "<p>378 rows × 140 columns</p>\n",
       "</div>"
      ],
      "text/plain": [
       "                       1           2          3          4          5    \\\n",
       "chdf_Counting2 -280.338013  124.138573   3.840094  15.627791  -4.523294   \n",
       "u3v9_Stroop    -332.180664   82.551025  36.539909  13.298847   9.375514   \n",
       "x1q3_Stroop    -362.426636  132.324814   7.044482   4.615066 -15.601804   \n",
       "cxj0_Counting2 -212.131577   80.600708 -21.619318 -13.967280 -25.350821   \n",
       "d4n6_Reading   -368.372650  107.842270  28.294743   1.705698 -12.907864   \n",
       "...                    ...         ...        ...        ...        ...   \n",
       "j9h8_Math      -318.902069   59.248405  29.819403  16.495792  14.034431   \n",
       "kycf_Counting2 -274.979279   94.682816   8.230233   5.364861  -7.384567   \n",
       "k67g_Counting1 -353.467926  138.669968  21.895538  14.345483  -5.692627   \n",
       "cxj0_Math      -253.067215   85.056641 -11.448489 -15.564773 -25.164740   \n",
       "6g6y_Speaking  -280.927765   72.356934  20.673653  11.828773   6.565562   \n",
       "\n",
       "                      6          7          8          9          10   ...  \\\n",
       "chdf_Counting2 -15.956475 -15.634309 -10.193167  -9.976574 -19.588152  ...   \n",
       "u3v9_Stroop      6.349435   0.126900   4.142829  -0.517474   1.666138  ...   \n",
       "x1q3_Stroop     -8.803574 -15.455957 -13.802106 -14.303585 -23.968596  ...   \n",
       "cxj0_Counting2 -22.545033 -17.179089 -13.269796 -11.334437 -11.906796  ...   \n",
       "d4n6_Reading    -5.071440 -39.436275 -29.513298  -7.421915 -13.819040  ...   \n",
       "...                   ...        ...        ...        ...        ...  ...   \n",
       "j9h8_Math       -1.386578   1.671305   2.522140   0.464210   1.041862  ...   \n",
       "kycf_Counting2 -17.215910 -21.922163 -11.229294 -15.574428 -14.748496  ...   \n",
       "k67g_Counting1  -3.310135 -11.725992 -25.843159 -15.291170 -17.531143  ...   \n",
       "cxj0_Math      -12.583304 -10.089787  -8.028225 -10.927115  -7.694977  ...   \n",
       "6g6y_Speaking   -3.922047  -2.845994   3.321418  -8.916420   8.052495  ...   \n",
       "\n",
       "                     131       132       133       134       135       136  \\\n",
       "chdf_Counting2  0.040699  0.046211  0.057499  0.028933  0.057475  0.070104   \n",
       "u3v9_Stroop     0.056451  0.054041  0.059267  0.035263  0.040047  0.047146   \n",
       "x1q3_Stroop     0.060399  0.073943  0.086178  0.039574  0.056021  0.053250   \n",
       "cxj0_Counting2  0.079905  0.060541  0.070319  0.057833  0.062822  0.081051   \n",
       "d4n6_Reading    0.061729  0.063967  0.068888  0.063583  0.069102  0.071830   \n",
       "...                  ...       ...       ...       ...       ...       ...   \n",
       "j9h8_Math       0.121528  0.090555  0.092629  0.062740  0.078983  0.100332   \n",
       "kycf_Counting2  0.059797  0.057618  0.047983  0.038825  0.047335  0.047993   \n",
       "k67g_Counting1  0.061554  0.061031  0.059175  0.056096  0.102160  0.063463   \n",
       "cxj0_Math       0.058189  0.053052  0.048247  0.052107  0.047545  0.063636   \n",
       "6g6y_Speaking   0.069291  0.066565  0.067631  0.040679  0.056267  0.046539   \n",
       "\n",
       "                     137       138       139       140  \n",
       "chdf_Counting2  0.053073  0.041000  0.072966  0.068477  \n",
       "u3v9_Stroop     0.040196  0.061043  0.058365  0.062228  \n",
       "x1q3_Stroop     0.062675  0.063904  0.061947  0.041878  \n",
       "cxj0_Counting2  0.076904  0.059277  0.080670  0.076766  \n",
       "d4n6_Reading    0.051946  0.074013  0.066823  0.069891  \n",
       "...                  ...       ...       ...       ...  \n",
       "j9h8_Math       0.071423  0.080527  0.079014  0.077805  \n",
       "kycf_Counting2  0.063589  0.057100  0.050366  0.054505  \n",
       "k67g_Counting1  0.058458  0.042741  0.092567  0.105108  \n",
       "cxj0_Math       0.064138  0.062151  0.069617  0.074496  \n",
       "6g6y_Speaking   0.064388  0.057773  0.072112  0.056777  \n",
       "\n",
       "[378 rows x 140 columns]"
      ]
     },
     "execution_count": 3,
     "metadata": {},
     "output_type": "execute_result"
    }
   ],
   "source": [
    "x = pd.read_csv('../Feature Extraction/Features/HCfeatures.csv', sep=\",\", header=None, index_col=0)\n",
    "x.set_axis([i.split('.')[0] for i in list(x.index)], axis='index', inplace=True)\n",
    "x"
   ]
  },
  {
   "cell_type": "code",
   "execution_count": 4,
   "metadata": {},
   "outputs": [],
   "source": [
    "idx = list(x.merge(labels, left_index= True, right_index=True).index)\n",
    "labels = labels.loc[idx]\n",
    "x = x.loc[idx]"
   ]
  },
  {
   "cell_type": "markdown",
   "metadata": {},
   "source": [
    "### Classification of binary stress"
   ]
  },
  {
   "cell_type": "code",
   "execution_count": 5,
   "metadata": {},
   "outputs": [
    {
     "data": {
      "text/plain": [
       "1    263\n",
       "0    115\n",
       "Name: binary-stress, dtype: int64"
      ]
     },
     "execution_count": 5,
     "metadata": {},
     "output_type": "execute_result"
    }
   ],
   "source": [
    "y = labels['binary-stress']\n",
    "y.value_counts()"
   ]
  },
  {
   "cell_type": "code",
   "execution_count": 6,
   "metadata": {},
   "outputs": [],
   "source": [
    "feature_selector = None ###  'PCA', 'RFE', 'L1' or None\n",
    "list_classif = [RandomForestClassifier(max_depth=5, random_state=0), \n",
    "                KNeighborsClassifier(n_neighbors=3), \n",
    "                SVC(gamma='auto', kernel='rbf', random_state=0), \n",
    "                MLPClassifier(max_iter=5000, random_state=0, hidden_layer_sizes=[])\n",
    "]\n",
    "n_splits=10"
   ]
  },
  {
   "cell_type": "code",
   "execution_count": 7,
   "metadata": {
    "scrolled": false
   },
   "outputs": [
    {
     "name": "stdout",
     "output_type": "stream",
     "text": [
      "Split  1/10\n",
      "Split  2/10\n",
      "Split  3/10\n",
      "Split  4/10\n",
      "Split  5/10\n",
      "Split  6/10\n",
      "Split  7/10\n",
      "Split  8/10\n",
      "Split  9/10\n",
      "Split 10/10\n"
     ]
    },
    {
     "data": {
      "text/html": [
       "<div>\n",
       "<style scoped>\n",
       "    .dataframe tbody tr th:only-of-type {\n",
       "        vertical-align: middle;\n",
       "    }\n",
       "\n",
       "    .dataframe tbody tr th {\n",
       "        vertical-align: top;\n",
       "    }\n",
       "\n",
       "    .dataframe thead th {\n",
       "        text-align: right;\n",
       "    }\n",
       "</style>\n",
       "<table border=\"1\" class=\"dataframe\">\n",
       "  <thead>\n",
       "    <tr style=\"text-align: right;\">\n",
       "      <th></th>\n",
       "      <th>f1-score</th>\n",
       "      <th>accuracy</th>\n",
       "      <th>time</th>\n",
       "    </tr>\n",
       "    <tr>\n",
       "      <th>classifier</th>\n",
       "      <th></th>\n",
       "      <th></th>\n",
       "      <th></th>\n",
       "    </tr>\n",
       "  </thead>\n",
       "  <tbody>\n",
       "    <tr>\n",
       "      <th>KNeighborsClassifier</th>\n",
       "      <td>0.597635</td>\n",
       "      <td>0.624336</td>\n",
       "      <td>7.037865</td>\n",
       "    </tr>\n",
       "    <tr>\n",
       "      <th>MLPClassifier</th>\n",
       "      <td>0.644288</td>\n",
       "      <td>0.610884</td>\n",
       "      <td>8.607246</td>\n",
       "    </tr>\n",
       "    <tr>\n",
       "      <th>RandomForestClassifier</th>\n",
       "      <td>0.655604</td>\n",
       "      <td>0.589220</td>\n",
       "      <td>6.661447</td>\n",
       "    </tr>\n",
       "    <tr>\n",
       "      <th>SVC</th>\n",
       "      <td>0.679749</td>\n",
       "      <td>0.619802</td>\n",
       "      <td>6.039070</td>\n",
       "    </tr>\n",
       "  </tbody>\n",
       "</table>\n",
       "</div>"
      ],
      "text/plain": [
       "                        f1-score  accuracy      time\n",
       "classifier                                          \n",
       "KNeighborsClassifier    0.597635  0.624336  7.037865\n",
       "MLPClassifier           0.644288  0.610884  8.607246\n",
       "RandomForestClassifier  0.655604  0.589220  6.661447\n",
       "SVC                     0.679749  0.619802  6.039070"
      ]
     },
     "execution_count": 7,
     "metadata": {},
     "output_type": "execute_result"
    }
   ],
   "source": [
    "res, conf = make_nclassif_random_splits_resample(x, y, n_splits=n_splits, \n",
    "                    feature_selector=feature_selector, \n",
    "                    list_classifiers = list_classif)\n",
    "avg_res(res)"
   ]
  },
  {
   "cell_type": "code",
   "execution_count": null,
   "metadata": {},
   "outputs": [],
   "source": [
    "print('Standard Deviations over 10 splits:')\n",
    "res.groupby(['classifier']).std()[['f1-score', 'accuracy', 'time']]"
   ]
  },
  {
   "cell_type": "code",
   "execution_count": null,
   "metadata": {},
   "outputs": [],
   "source": [
    "#res.to_csv('Results/audio_stress_classif.csv', sep=\",\", index=True)"
   ]
  },
  {
   "cell_type": "markdown",
   "metadata": {},
   "source": [
    "### Classification of 3-class stress"
   ]
  },
  {
   "cell_type": "code",
   "execution_count": null,
   "metadata": {},
   "outputs": [],
   "source": [
    "y = labels['affect3-class']\n",
    "y.value_counts()"
   ]
  },
  {
   "cell_type": "code",
   "execution_count": null,
   "metadata": {},
   "outputs": [],
   "source": [
    "res, conf = make_nclassif_random_splits(x, y, n_splits=n_splits, \n",
    "                    feature_selector=feature_selector, \n",
    "                    list_classifiers = list_classif)\n",
    "avg_res(res)"
   ]
  },
  {
   "cell_type": "code",
   "execution_count": null,
   "metadata": {
    "scrolled": true
   },
   "outputs": [],
   "source": [
    "print('Standard Deviations over 10 splits:')\n",
    "res.groupby(['classifier']).std()[['f1-score', 'accuracy', 'time']]"
   ]
  },
  {
   "cell_type": "code",
   "execution_count": null,
   "metadata": {},
   "outputs": [],
   "source": [
    "#res.to_csv('Results/audio_3stress_classif.csv', sep=\",\", index=True)"
   ]
  },
  {
   "cell_type": "markdown",
   "metadata": {},
   "source": [
    "# Deep Learning approch\n",
    "Wave2Vec (W2V) features are used directly (without aggregation) in the deep learning approaches. The W2V matrices are used as input for a Transformer network. The model is fitted 10 times on random splits, and the average scores over 10 repetitions are reported."
   ]
  },
  {
   "cell_type": "code",
   "execution_count": null,
   "metadata": {},
   "outputs": [],
   "source": [
    "x = pd.read_csv('../Feature Extraction/Features/W2Vfeatures.csv', sep=\",\", header=None, index_col=0)\n",
    "x.set_axis([i.split('.')[0] for i in list(x.index)], axis='index', inplace=True)"
   ]
  },
  {
   "cell_type": "code",
   "execution_count": null,
   "metadata": {},
   "outputs": [],
   "source": [
    "#### For W2V features\n",
    "from ast import literal_eval\n",
    "\n",
    "new_x = []\n",
    "new_idx = [] # this is actually useless but whatever\n",
    "process_row = lambda row: literal_eval(row[1]) + literal_eval(row[2])\n",
    "process_row_quick = lambda row: literal_eval(row[1])\n",
    "\n",
    "for idx, row in x.iterrows():\n",
    "    new_row = process_row_quick(row)\n",
    "    new_x.append(new_row)\n",
    "    new_idx.append(idx)\n",
    "    \n",
    "new_x = pd.DataFrame(data=new_x, index=new_idx, columns=range(1,513))\n",
    "x = new_x\n",
    "x"
   ]
  },
  {
   "cell_type": "code",
   "execution_count": null,
   "metadata": {},
   "outputs": [],
   "source": [
    "idx = list(x.merge(labels, left_index= True, right_index=True).index)\n",
    "labels = labels.loc[idx]\n",
    "x = x.loc[idx]"
   ]
  },
  {
   "cell_type": "markdown",
   "metadata": {},
   "source": [
    "### Classification of binary stress"
   ]
  },
  {
   "cell_type": "code",
   "execution_count": null,
   "metadata": {},
   "outputs": [],
   "source": [
    "y = labels['binary-stress']\n",
    "y.value_counts()"
   ]
  },
  {
   "cell_type": "code",
   "execution_count": null,
   "metadata": {},
   "outputs": [],
   "source": [
    "list_classif = [MLPClassifier(max_iter=5000, random_state=0, hidden_layer_sizes=[])]\n",
    "n_splits=10"
   ]
  },
  {
   "cell_type": "code",
   "execution_count": null,
   "metadata": {
    "scrolled": false
   },
   "outputs": [],
   "source": [
    "res, conf = make_nclassif_random_splits_resample(x, y, n_splits=n_splits,  \n",
    "                    list_classifiers = list_classif)\n",
    "avg_res(res)"
   ]
  },
  {
   "cell_type": "code",
   "execution_count": null,
   "metadata": {},
   "outputs": [],
   "source": [
    "print('Standard Deviations over 10 splits:')\n",
    "res.groupby(['classifier']).std()[['f1-score', 'accuracy', 'time']]"
   ]
  },
  {
   "cell_type": "code",
   "execution_count": null,
   "metadata": {},
   "outputs": [],
   "source": [
    "#res.to_csv('Results/audio_stress_classif.csv', sep=\",\", index=True)"
   ]
  },
  {
   "cell_type": "markdown",
   "metadata": {},
   "source": [
    "### Classification of 3-class stress"
   ]
  },
  {
   "cell_type": "code",
   "execution_count": null,
   "metadata": {},
   "outputs": [],
   "source": [
    "y = labels['affect3-class']\n",
    "y.value_counts()"
   ]
  },
  {
   "cell_type": "code",
   "execution_count": null,
   "metadata": {},
   "outputs": [],
   "source": [
    "res, conf = make_nclassif_random_splits(x, y, n_splits=n_splits, \n",
    "                    list_classifiers = list_classif)\n",
    "avg_res(res)"
   ]
  },
  {
   "cell_type": "code",
   "execution_count": null,
   "metadata": {
    "scrolled": true
   },
   "outputs": [],
   "source": [
    "print('Standard Deviations over 10 splits:')\n",
    "res.groupby(['classifier']).std()[['f1-score', 'accuracy', 'time']]"
   ]
  },
  {
   "cell_type": "code",
   "execution_count": null,
   "metadata": {},
   "outputs": [],
   "source": []
  }
 ],
 "metadata": {
  "kernelspec": {
   "display_name": "Python 3",
   "language": "python",
   "name": "python3"
  },
  "language_info": {
   "codemirror_mode": {
    "name": "ipython",
    "version": 3
   },
   "file_extension": ".py",
   "mimetype": "text/x-python",
   "name": "python",
   "nbconvert_exporter": "python",
   "pygments_lexer": "ipython3",
   "version": "3.6.8"
  }
 },
 "nbformat": 4,
 "nbformat_minor": 4
}
